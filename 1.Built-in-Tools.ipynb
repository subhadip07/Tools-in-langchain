{
 "cells": [
  {
   "cell_type": "markdown",
   "id": "585d0462",
   "metadata": {},
   "source": [
    "### Built-in Tool \n",
    "#### 1. DuckDuckGo Search"
   ]
  },
  {
   "cell_type": "code",
   "execution_count": 4,
   "id": "2b493075",
   "metadata": {},
   "outputs": [
    {
     "name": "stderr",
     "output_type": "stream",
     "text": [
      "d:\\CampusX\\tools-in-langchain\\.venv\\Lib\\site-packages\\langchain_community\\utilities\\duckduckgo_search.py:63: RuntimeWarning: This package (`duckduckgo_search`) has been renamed to `ddgs`! Use `pip install ddgs` instead.\n",
      "  with DDGS() as ddgs:\n"
     ]
    },
    {
     "name": "stdout",
     "output_type": "stream",
     "text": [
      "snippet: Check today's top 10 news stories, headline news, breaking news, latest news, politics news, sports news, entertainment news and business news on Times of India, title: Times Top10: Today's Top News Headlines and Latest News from India ..., link: https://m.timesofindia.com/india/timestopten.cms, snippet: 2 days ago · Today's top India news headlines, news on Indian politics, elections, government, business, technology, and Bollywood., title: India News | Today's latest updates and breaking news from India…, link: https://www.ndtv.com/india, snippet: Check out the latest news from India and around the world. Latest India news on Bollywood, Politics, Business, Cricket, Technology and Travel., title: India Today - Latest News, Breaking News Today, link: https://www.indiatoday.in/, snippet: 1 day ago · Stay Up-to-date with Top news in India, current headlines, photos & videos online, live coverage on entertainment, business, politics, sports, technology and more at indianexpress.com., title: India News: Latest News India, Today Breaking News Headlines from India ..., link: https://indianexpress.com/section/india/\n"
     ]
    }
   ],
   "source": [
    "from langchain_community.tools import DuckDuckGoSearchResults\n",
    "\n",
    "search_tool = DuckDuckGoSearchResults()\n",
    "result = search_tool.invoke(\"Top news in India Today\")\n",
    "print(result)"
   ]
  },
  {
   "cell_type": "code",
   "execution_count": 5,
   "id": "31638816",
   "metadata": {},
   "outputs": [
    {
     "name": "stdout",
     "output_type": "stream",
     "text": [
      "duckduckgo_results_json\n",
      "A wrapper around Duck Duck Go Search. Useful for when you need to answer questions about current events. Input should be a search query.\n",
      "{'query': {'description': 'search query to look up', 'title': 'Query', 'type': 'string'}}\n"
     ]
    }
   ],
   "source": [
    "print(search_tool.name)\n",
    "print(search_tool.description)\n",
    "print(search_tool.args)"
   ]
  },
  {
   "cell_type": "markdown",
   "id": "3d480321",
   "metadata": {},
   "source": [
    "#### 2. Shell Tool"
   ]
  },
  {
   "cell_type": "code",
   "execution_count": 6,
   "id": "77943389",
   "metadata": {},
   "outputs": [
    {
     "name": "stderr",
     "output_type": "stream",
     "text": [
      "d:\\CampusX\\tools-in-langchain\\.venv\\Lib\\site-packages\\langchain_community\\tools\\shell\\tool.py:33: UserWarning: The shell tool has no safeguards by default. Use at your own risk.\n",
      "  warnings.warn(\n"
     ]
    },
    {
     "name": "stdout",
     "output_type": "stream",
     "text": [
      "Executing command:\n",
      " ls\n",
      "1.Built-in-Tools.ipynb\n",
      "README.md\n",
      "main.py\n",
      "pyproject.toml\n",
      "requirements.txt\n",
      "uv.lock\n",
      "\n"
     ]
    }
   ],
   "source": [
    "from langchain_community.tools import ShellTool\n",
    "\n",
    "shell_tool = ShellTool()\n",
    "\n",
    "results = shell_tool.invoke('ls')\n",
    "\n",
    "print(results)"
   ]
  },
  {
   "cell_type": "code",
   "execution_count": null,
   "id": "8e649a33",
   "metadata": {},
   "outputs": [],
   "source": []
  }
 ],
 "metadata": {
  "kernelspec": {
   "display_name": "tools-in-langchain",
   "language": "python",
   "name": "python3"
  },
  "language_info": {
   "codemirror_mode": {
    "name": "ipython",
    "version": 3
   },
   "file_extension": ".py",
   "mimetype": "text/x-python",
   "name": "python",
   "nbconvert_exporter": "python",
   "pygments_lexer": "ipython3",
   "version": "3.13.1"
  }
 },
 "nbformat": 4,
 "nbformat_minor": 5
}
