{
 "cells": [
  {
   "cell_type": "markdown",
   "id": "f0eabb1a",
   "metadata": {},
   "source": [
    "### Toolkit\n",
    "* A toolkit is just a collection (bundle) of related tools that serve a common purpose — packaged together for convenience and reusability.\n",
    "\n",
    "In LangChain:\n",
    "* A toolkit might be: GoogleDriveToolKit And it can contain the following tools\n",
    "\n",
    "1. GoogleDriveCreateFileTool: Upload a file\n",
    "2. GoogleDriveSearchTool: Search for a file by name/content\n",
    "3. GoogleDriveReadFileTool: Read contents of a file"
   ]
  },
  {
   "cell_type": "code",
   "execution_count": 2,
   "id": "b0d60428",
   "metadata": {},
   "outputs": [],
   "source": [
    "from langchain.tools import tool"
   ]
  },
  {
   "cell_type": "code",
   "execution_count": 4,
   "id": "94283b31",
   "metadata": {},
   "outputs": [],
   "source": [
    "# Custom \n",
    "\n",
    "@tool\n",
    "def add(a: int, b: int) -> int:\n",
    "    \"\"\"Add two numbers\"\"\"\n",
    "    return a + b\n",
    "\n",
    "@tool\n",
    "def subtract(a: int, b: int) -> int:\n",
    "    \"\"\"Subtract two numbers\"\"\"\n",
    "    return a - b"
   ]
  },
  {
   "cell_type": "code",
   "execution_count": 5,
   "id": "4827eed2",
   "metadata": {},
   "outputs": [],
   "source": [
    "class MathToolkit:\n",
    "    def get_tools(self):\n",
    "        return [add, subtract]"
   ]
  },
  {
   "cell_type": "code",
   "execution_count": 6,
   "id": "514176e0",
   "metadata": {},
   "outputs": [
    {
     "name": "stdout",
     "output_type": "stream",
     "text": [
      "add => Add two numbers\n",
      "subtract => Subtract two numbers\n"
     ]
    }
   ],
   "source": [
    "toolkit = MathToolkit()\n",
    "tools = toolkit.get_tools()\n",
    "\n",
    "for tool in tools:\n",
    "    print(tool.name, \"=>\", tool.description)"
   ]
  }
 ],
 "metadata": {
  "kernelspec": {
   "display_name": "tools-in-langchain",
   "language": "python",
   "name": "python3"
  },
  "language_info": {
   "codemirror_mode": {
    "name": "ipython",
    "version": 3
   },
   "file_extension": ".py",
   "mimetype": "text/x-python",
   "name": "python",
   "nbconvert_exporter": "python",
   "pygments_lexer": "ipython3",
   "version": "3.13.1"
  }
 },
 "nbformat": 4,
 "nbformat_minor": 5
}
